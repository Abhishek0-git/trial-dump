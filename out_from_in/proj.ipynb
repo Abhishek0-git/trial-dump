{
 "cells": [
  {
   "cell_type": "code",
   "execution_count": 175,
   "id": "f2acbca9",
   "metadata": {},
   "outputs": [
    {
     "name": "stdout",
     "output_type": "stream",
     "text": [
      "         day           1            2           3             4             5  \\\n",
      "0     Monday  hindi, ALM  english, MJ  maths, BLK  science, MKJ  So.Sci., KKM   \n",
      "1    Tuesday  hindi, ALM  english, MJ  maths, BLK  science, MKJ  So.Sci., KKM   \n",
      "2  Wednesday  hindi, ALM  english, MJ  maths, BLK  science, MKJ  So.Sci., KKM   \n",
      "3   Thirsday  hindi, ALM  english, MJ  maths, BLK  science, MKJ  So.Sci., KKM   \n",
      "4     Friday  hindi, ALM  english, MJ  maths, BLK  science, MKJ  So.Sci., KKM   \n",
      "5   Saturday  hindi, ALM  english, MJ  maths, BLK  science, MKJ  So.Sci., KKM   \n",
      "\n",
      "                  6                  7            8  \n",
      "0      sanskrit,DCT            COMP,MJ  science,MKJ  \n",
      "1      sanskrit,DCT            COMP,MJ  science,MKJ  \n",
      "2      sanskrit,DCT     health edu.,MJ    maths,BLK  \n",
      "3      sanskrit,DCT     health edu.,MJ    maths,BLK  \n",
      "4      sanskrit,DCT  political sci.,MJ  So.Sci.,KKM  \n",
      "5  art and edu.,DCT  political sci.,MJ  So.Sci.,KKM  \n"
     ]
    }
   ],
   "source": [
    "import csv\n",
    "import pandas as pd\n",
    "data = list()\n",
    "with open('inp.csv', mode='r') as file:\n",
    "    reader = csv.reader(file)\n",
    "    for row in reader:\n",
    "        data.append(row)\n",
    "header = data.pop(0)\n",
    "\n",
    "cls_list = list(x[0] for x in data)\n",
    "    \n",
    "def table(cls_no, cls):\n",
    "    df = pd.DataFrame(columns=[\"day\"]+list(range(1,len(header))))\n",
    "    df[\"day\"] = [\"Monday\", \"Tuesday\", \"Wednesday\", \"Thirsday\", \"Friday\", \"Saturday\"]\n",
    "\n",
    "    main_data = data[cls_no]\n",
    "    main_data.pop(0)\n",
    "    for i in range(len(main_data)):\n",
    "        val = main_data[i].split('>')\n",
    "        if len(val) > 1:\n",
    "            lis = list()\n",
    "            for j in val:\n",
    "                temp = j.split(',')\n",
    "                temp1 = f\"{temp[0]},{temp[2]}\"\n",
    "                if len(temp[1]) > 1:\n",
    "                    diff = int(temp[1][2]) - int(temp[1][0]) + 1\n",
    "                    for _ in range(diff):\n",
    "                        lis.append(temp1)\n",
    "                else:\n",
    "                    lis.append(temp1)\n",
    "            df[i+1] = lis\n",
    "        else:\n",
    "            df[i+1] = list([f\"{main_data[i].split(',')[0]}, {main_data[i].split(',')[2]}\"] * 6)\n",
    "    print(df)\n",
    "    df.to_csv(f\"{cls}.csv\", index=False)\n",
    "\n",
    "def main():\n",
    "    cls = input(\"Enter the class you want the Time Table of : \")\n",
    "    if cls in cls_list:\n",
    "        table(cls_list.index(cls), cls)\n",
    "    else:\n",
    "        raise Exception(f\"{cls} class not found. pls try again\")\n",
    "main()\n"
   ]
  }
 ],
 "metadata": {
  "kernelspec": {
   "display_name": "Python 3",
   "language": "python",
   "name": "python3"
  },
  "language_info": {
   "codemirror_mode": {
    "name": "ipython",
    "version": 3
   },
   "file_extension": ".py",
   "mimetype": "text/x-python",
   "name": "python",
   "nbconvert_exporter": "python",
   "pygments_lexer": "ipython3",
   "version": "3.13.1"
  }
 },
 "nbformat": 4,
 "nbformat_minor": 5
}
